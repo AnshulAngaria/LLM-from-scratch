{
 "cells": [
  {
   "cell_type": "code",
   "execution_count": 20,
   "id": "800e0c9f-73f6-4ea6-9404-49c6089f9ab4",
   "metadata": {},
   "outputs": [
    {
     "name": "stdout",
     "output_type": "stream",
     "text": [
      "Encoded tokens: [16856, 47058, 15725]\n",
      "Token count: 3\n",
      "Decoded text: !.\n"
     ]
    }
   ],
   "source": [
    "import tiktoken\n",
    "\n",
    "class Tokenizer:\n",
    "    \n",
    "    def __init__(self, encoding_name: str = \"cl100k_base\", model_name: str = None):\n",
    "\n",
    "        if model_name:\n",
    "            self.encoding = tiktoken.encoding_for_model(model_name)\n",
    "        else:\n",
    "            self.encoding = tiktoken.get_encoding(encoding_name)\n",
    "    \n",
    "    def encode(self, text: str) -> list:\n",
    "\n",
    "        return self.encoding.encode(text)\n",
    "    \n",
    "    def decode(self, tokens: list) -> str:\n",
    "\n",
    "        return self.encoding.decode(tokens)\n",
    "    \n",
    "    def token_count(self, text: str) -> int:\n",
    "\n",
    "        return len(self.encoding.encode(text))\n",
    "    \n",
    "    def __call__(self, text: str) -> list:\n",
    "\n",
    "        return self.encode(text)\n",
    "\n",
    "# Example usage:\n",
    "if __name__ == \"__main__\":\n",
    "\n",
    "    tokenizer = Tokenizer(model_name=\"gpt-4\")\n",
    "    \n",
    "    sample_text = \"Testing tokenizer!.\"\n",
    "    \n",
    "\n",
    "    tokens = tokenizer.encode(sample_text)\n",
    "    print(\"Encoded tokens:\", tokens)\n",
    "    \n",
    "    count = tokenizer.token_count(sample_text)\n",
    "    print(\"Token count:\", count)\n",
    "    \n",
    "    decoded_text = tokenizer.decode(tokens[2:3])\n",
    "    print(\"Decoded text:\", decoded_text)\n"
   ]
  },
  {
   "cell_type": "code",
   "execution_count": null,
   "id": "ade729cc-eeab-4422-b667-fbdcb778237c",
   "metadata": {},
   "outputs": [],
   "source": []
  }
 ],
 "metadata": {
  "kernelspec": {
   "display_name": "Python 3 (ipykernel)",
   "language": "python",
   "name": "python3"
  },
  "language_info": {
   "codemirror_mode": {
    "name": "ipython",
    "version": 3
   },
   "file_extension": ".py",
   "mimetype": "text/x-python",
   "name": "python",
   "nbconvert_exporter": "python",
   "pygments_lexer": "ipython3",
   "version": "3.8.10"
  }
 },
 "nbformat": 4,
 "nbformat_minor": 5
}
